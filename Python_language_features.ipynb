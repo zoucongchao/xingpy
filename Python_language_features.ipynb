{
 "cells": [
  {
   "cell_type": "markdown",
   "metadata": {},
   "source": [
    "### 1 Python的函数参数传递"
   ]
  },
  {
   "cell_type": "markdown",
   "metadata": {},
   "source": [
    "看两个例子:"
   ]
  },
  {
   "cell_type": "code",
   "execution_count": 1,
   "metadata": {
    "collapsed": false
   },
   "outputs": [
    {
     "name": "stdout",
     "output_type": "stream",
     "text": [
      "1\n"
     ]
    }
   ],
   "source": [
    "a = 1\n",
    "def fun(a):\n",
    "    a = 2\n",
    "fun(a)\n",
    "print a  # 1"
   ]
  },
  {
   "cell_type": "code",
   "execution_count": 2,
   "metadata": {
    "collapsed": false
   },
   "outputs": [
    {
     "name": "stdout",
     "output_type": "stream",
     "text": [
      "[1]\n"
     ]
    }
   ],
   "source": [
    "a = []\n",
    "def fun(a):\n",
    "    a.append(1)\n",
    "fun(a)\n",
    "print a  # [1]"
   ]
  },
  {
   "cell_type": "markdown",
   "metadata": {},
   "source": [
    "所有的变量都可以理解是内存中一个对象的“引用”，或者，也可以看似c中void*的感觉。\n",
    "\n",
    "通过id来看引用a的内存地址可以比较理解："
   ]
  },
  {
   "cell_type": "code",
   "execution_count": 3,
   "metadata": {
    "collapsed": false
   },
   "outputs": [
    {
     "name": "stdout",
     "output_type": "stream",
     "text": [
      "func_out 6398680 6398680\n",
      "func_in 6398680\n",
      "re-point 6398668 6398668\n",
      "1\n"
     ]
    }
   ],
   "source": [
    "a = 1\n",
    "def fun(a):\n",
    "    print \"func_in\",id(a)   \n",
    "    a = 2\n",
    "    print \"re-point\",id(a), id(2)   \n",
    "print \"func_out\",id(a), id(1)  \n",
    "fun(a)\n",
    "print a  "
   ]
  },
  {
   "cell_type": "markdown",
   "metadata": {},
   "source": [
    "可以看到，在执行完a = 2之后，a引用中保存的值，即内存地址发生变化，由原来1对象的所在的地址变成了2这个实体对象的内存地址。"
   ]
  },
  {
   "cell_type": "markdown",
   "metadata": {},
   "source": [
    "而第2个例子a引用保存的内存值就不会发生变化："
   ]
  },
  {
   "cell_type": "code",
   "execution_count": 4,
   "metadata": {
    "collapsed": false
   },
   "outputs": [
    {
     "name": "stdout",
     "output_type": "stream",
     "text": [
      "func_out 78578312\n",
      "func_in 78578312\n",
      "[1]\n"
     ]
    }
   ],
   "source": [
    "a = []\n",
    "def fun(a):\n",
    "    print \"func_in\",id(a)  \n",
    "    a.append(1)\n",
    "print \"func_out\",id(a)     \n",
    "fun(a)\n",
    "print a  "
   ]
  },
  {
   "cell_type": "markdown",
   "metadata": {},
   "source": [
    "这里记住的是类型是属于对象的，而不是变量。而对象有两种,“可更改”（mutable）与“不可更改”（immutable）对象。在python中，strings, tuples, 和numbers是不可更改的对象，而 list, dict, set 等则是可以修改的对象。"
   ]
  },
  {
   "cell_type": "markdown",
   "metadata": {},
   "source": [
    "当一个引用传递给函数的时候,函数自动复制一份引用,这个函数里的引用和外边的引用没有半毛关系了.所以第一个例子里函数把引用指向了一个不可变对象,当函数返回的时候,外面的引用没半毛感觉.而第二个例子就不一样了,函数内的引用指向的是可变对象,对它的操作就和定位了指针地址一样,在内存里进行修改."
   ]
  },
  {
   "cell_type": "code",
   "execution_count": null,
   "metadata": {
    "collapsed": true
   },
   "outputs": [],
   "source": []
  }
 ],
 "metadata": {
  "kernelspec": {
   "display_name": "Python 2",
   "language": "python",
   "name": "python2"
  },
  "language_info": {
   "codemirror_mode": {
    "name": "ipython",
    "version": 2
   },
   "file_extension": ".py",
   "mimetype": "text/x-python",
   "name": "python",
   "nbconvert_exporter": "python",
   "pygments_lexer": "ipython2",
   "version": "2.7.13"
  }
 },
 "nbformat": 4,
 "nbformat_minor": 0
}
